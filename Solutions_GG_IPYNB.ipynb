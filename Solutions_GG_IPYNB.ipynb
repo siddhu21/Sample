{
 "cells": [
  {
   "cell_type": "markdown",
   "metadata": {},
   "source": [
    "#### Assignment- Solutions"
   ]
  },
  {
   "cell_type": "markdown",
   "metadata": {},
   "source": [
    "#### Importing Libraries"
   ]
  },
  {
   "cell_type": "code",
   "execution_count": 93,
   "metadata": {},
   "outputs": [],
   "source": [
    "import pandas as pd\n",
    "import numpy as np\n",
    "import matplotlib.pyplot as plt\n",
    "import seaborn as sns"
   ]
  },
  {
   "cell_type": "code",
   "execution_count": 94,
   "metadata": {},
   "outputs": [],
   "source": [
    "df= pd.read_csv(\"sample_data_set_2 - Sheet1 (1).csv\",sep=\",\") #Uploading dataset"
   ]
  },
  {
   "cell_type": "code",
   "execution_count": 95,
   "metadata": {},
   "outputs": [
    {
     "data": {
      "text/html": [
       "<div>\n",
       "<style scoped>\n",
       "    .dataframe tbody tr th:only-of-type {\n",
       "        vertical-align: middle;\n",
       "    }\n",
       "\n",
       "    .dataframe tbody tr th {\n",
       "        vertical-align: top;\n",
       "    }\n",
       "\n",
       "    .dataframe thead th {\n",
       "        text-align: right;\n",
       "    }\n",
       "</style>\n",
       "<table border=\"1\" class=\"dataframe\">\n",
       "  <thead>\n",
       "    <tr style=\"text-align: right;\">\n",
       "      <th></th>\n",
       "      <th>Date</th>\n",
       "      <th>App</th>\n",
       "      <th>Ad Group</th>\n",
       "      <th>State</th>\n",
       "      <th>Revenue</th>\n",
       "      <th>Ad Requests</th>\n",
       "      <th>Ad Responses</th>\n",
       "      <th>Fill Rate</th>\n",
       "      <th>Impressions</th>\n",
       "      <th>Render Rate</th>\n",
       "      <th>1st Clicks</th>\n",
       "      <th>2nd Clicks</th>\n",
       "    </tr>\n",
       "  </thead>\n",
       "  <tbody>\n",
       "    <tr>\n",
       "      <th>0</th>\n",
       "      <td>08 Sep 2020</td>\n",
       "      <td>(SDK X) Cricket Mazza</td>\n",
       "      <td>Cricket Mazza Banner (AdX)</td>\n",
       "      <td>Unresolved</td>\n",
       "      <td>0.0</td>\n",
       "      <td>3932330</td>\n",
       "      <td>3926253</td>\n",
       "      <td>99.9%</td>\n",
       "      <td>3849749</td>\n",
       "      <td>98.1%</td>\n",
       "      <td>10199</td>\n",
       "      <td>0</td>\n",
       "    </tr>\n",
       "    <tr>\n",
       "      <th>1</th>\n",
       "      <td>08 Sep 2020</td>\n",
       "      <td>(SDK X) Cricket Mazza</td>\n",
       "      <td>320x50</td>\n",
       "      <td>Unresolved</td>\n",
       "      <td>0.0</td>\n",
       "      <td>3932330</td>\n",
       "      <td>119</td>\n",
       "      <td>99.9%</td>\n",
       "      <td>118</td>\n",
       "      <td>99.2%</td>\n",
       "      <td>2</td>\n",
       "      <td>2</td>\n",
       "    </tr>\n",
       "    <tr>\n",
       "      <th>2</th>\n",
       "      <td>08 Sep 2020</td>\n",
       "      <td>(SDK X) Cricket Mazza</td>\n",
       "      <td>Dream11_320x50</td>\n",
       "      <td>Unresolved</td>\n",
       "      <td>0.0</td>\n",
       "      <td>3932330</td>\n",
       "      <td>96</td>\n",
       "      <td>99.9%</td>\n",
       "      <td>93</td>\n",
       "      <td>96.9%</td>\n",
       "      <td>2</td>\n",
       "      <td>2</td>\n",
       "    </tr>\n",
       "    <tr>\n",
       "      <th>3</th>\n",
       "      <td>08 Sep 2020</td>\n",
       "      <td>(SDK X) Cricket Mazza</td>\n",
       "      <td>My11_320x50</td>\n",
       "      <td>Unresolved</td>\n",
       "      <td>0.0</td>\n",
       "      <td>3932330</td>\n",
       "      <td>111</td>\n",
       "      <td>99.9%</td>\n",
       "      <td>110</td>\n",
       "      <td>99.1%</td>\n",
       "      <td>2</td>\n",
       "      <td>2</td>\n",
       "    </tr>\n",
       "    <tr>\n",
       "      <th>4</th>\n",
       "      <td>06 Sep 2020</td>\n",
       "      <td>(SDK X) Cricket Mazza</td>\n",
       "      <td>Cricket Mazza Banner (AdX)</td>\n",
       "      <td>Unresolved</td>\n",
       "      <td>0.0</td>\n",
       "      <td>3839002</td>\n",
       "      <td>3834328</td>\n",
       "      <td>99.9%</td>\n",
       "      <td>3785127</td>\n",
       "      <td>98.7%</td>\n",
       "      <td>9492</td>\n",
       "      <td>0</td>\n",
       "    </tr>\n",
       "  </tbody>\n",
       "</table>\n",
       "</div>"
      ],
      "text/plain": [
       "          Date                     App                    Ad Group  \\\n",
       "0  08 Sep 2020  (SDK X) Cricket Mazza   Cricket Mazza Banner (AdX)   \n",
       "1  08 Sep 2020  (SDK X) Cricket Mazza                       320x50   \n",
       "2  08 Sep 2020  (SDK X) Cricket Mazza               Dream11_320x50   \n",
       "3  08 Sep 2020  (SDK X) Cricket Mazza                  My11_320x50   \n",
       "4  06 Sep 2020  (SDK X) Cricket Mazza   Cricket Mazza Banner (AdX)   \n",
       "\n",
       "        State  Revenue  Ad Requests  Ad Responses Fill Rate  Impressions  \\\n",
       "0  Unresolved      0.0      3932330       3926253     99.9%      3849749   \n",
       "1  Unresolved      0.0      3932330           119     99.9%          118   \n",
       "2  Unresolved      0.0      3932330            96     99.9%           93   \n",
       "3  Unresolved      0.0      3932330           111     99.9%          110   \n",
       "4  Unresolved      0.0      3839002       3834328     99.9%      3785127   \n",
       "\n",
       "  Render Rate  1st Clicks  2nd Clicks  \n",
       "0       98.1%       10199           0  \n",
       "1       99.2%           2           2  \n",
       "2       96.9%           2           2  \n",
       "3       99.1%           2           2  \n",
       "4       98.7%        9492           0  "
      ]
     },
     "execution_count": 95,
     "metadata": {},
     "output_type": "execute_result"
    }
   ],
   "source": [
    "df.head()"
   ]
  },
  {
   "cell_type": "code",
   "execution_count": 96,
   "metadata": {},
   "outputs": [
    {
     "name": "stdout",
     "output_type": "stream",
     "text": [
      "<class 'pandas.core.frame.DataFrame'>\n",
      "RangeIndex: 48293 entries, 0 to 48292\n",
      "Data columns (total 12 columns):\n",
      " #   Column        Non-Null Count  Dtype  \n",
      "---  ------        --------------  -----  \n",
      " 0   Date          48293 non-null  object \n",
      " 1   App           48270 non-null  object \n",
      " 2   Ad Group      44300 non-null  object \n",
      " 3   State         48293 non-null  object \n",
      " 4   Revenue       48293 non-null  float64\n",
      " 5   Ad Requests   48293 non-null  int64  \n",
      " 6   Ad Responses  48293 non-null  int64  \n",
      " 7   Fill Rate     48293 non-null  object \n",
      " 8   Impressions   48293 non-null  int64  \n",
      " 9   Render Rate   48293 non-null  object \n",
      " 10  1st Clicks    48293 non-null  int64  \n",
      " 11  2nd Clicks    48293 non-null  int64  \n",
      "dtypes: float64(1), int64(5), object(6)\n",
      "memory usage: 4.4+ MB\n"
     ]
    }
   ],
   "source": [
    "df.info()"
   ]
  },
  {
   "cell_type": "code",
   "execution_count": 97,
   "metadata": {},
   "outputs": [
    {
     "data": {
      "text/plain": [
       "Date             object\n",
       "App              object\n",
       "Ad Group         object\n",
       "State            object\n",
       "Revenue         float64\n",
       "Ad Requests       int64\n",
       "Ad Responses      int64\n",
       "Fill Rate        object\n",
       "Impressions       int64\n",
       "Render Rate      object\n",
       "1st Clicks        int64\n",
       "2nd Clicks        int64\n",
       "dtype: object"
      ]
     },
     "execution_count": 97,
     "metadata": {},
     "output_type": "execute_result"
    }
   ],
   "source": [
    "df.dtypes"
   ]
  },
  {
   "cell_type": "code",
   "execution_count": 98,
   "metadata": {},
   "outputs": [
    {
     "data": {
      "text/plain": [
       "Date               0\n",
       "App               23\n",
       "Ad Group        3993\n",
       "State              0\n",
       "Revenue            0\n",
       "Ad Requests        0\n",
       "Ad Responses       0\n",
       "Fill Rate          0\n",
       "Impressions        0\n",
       "Render Rate        0\n",
       "1st Clicks         0\n",
       "2nd Clicks         0\n",
       "dtype: int64"
      ]
     },
     "execution_count": 98,
     "metadata": {},
     "output_type": "execute_result"
    }
   ],
   "source": [
    "df.isnull().sum() #Missing Values Column-wise"
   ]
  },
  {
   "cell_type": "code",
   "execution_count": 99,
   "metadata": {},
   "outputs": [
    {
     "data": {
      "text/plain": [
       "4016"
      ]
     },
     "execution_count": 99,
     "metadata": {},
     "output_type": "execute_result"
    }
   ],
   "source": [
    "df.isnull().sum().sum() #Total Missing Values"
   ]
  },
  {
   "cell_type": "markdown",
   "metadata": {},
   "source": [
    "#### Dropping Missing Values"
   ]
  },
  {
   "cell_type": "code",
   "execution_count": 100,
   "metadata": {},
   "outputs": [],
   "source": [
    "df= df.dropna()"
   ]
  },
  {
   "cell_type": "code",
   "execution_count": 101,
   "metadata": {},
   "outputs": [
    {
     "data": {
      "text/html": [
       "<div>\n",
       "<style scoped>\n",
       "    .dataframe tbody tr th:only-of-type {\n",
       "        vertical-align: middle;\n",
       "    }\n",
       "\n",
       "    .dataframe tbody tr th {\n",
       "        vertical-align: top;\n",
       "    }\n",
       "\n",
       "    .dataframe thead th {\n",
       "        text-align: right;\n",
       "    }\n",
       "</style>\n",
       "<table border=\"1\" class=\"dataframe\">\n",
       "  <thead>\n",
       "    <tr style=\"text-align: right;\">\n",
       "      <th></th>\n",
       "      <th>Revenue</th>\n",
       "      <th>Ad Requests</th>\n",
       "      <th>Ad Responses</th>\n",
       "      <th>Impressions</th>\n",
       "      <th>1st Clicks</th>\n",
       "      <th>2nd Clicks</th>\n",
       "    </tr>\n",
       "  </thead>\n",
       "  <tbody>\n",
       "    <tr>\n",
       "      <th>Revenue</th>\n",
       "      <td>1.000000</td>\n",
       "      <td>0.127370</td>\n",
       "      <td>0.220613</td>\n",
       "      <td>0.192691</td>\n",
       "      <td>0.332629</td>\n",
       "      <td>0.329001</td>\n",
       "    </tr>\n",
       "    <tr>\n",
       "      <th>Ad Requests</th>\n",
       "      <td>0.127370</td>\n",
       "      <td>1.000000</td>\n",
       "      <td>0.330752</td>\n",
       "      <td>0.321995</td>\n",
       "      <td>0.193078</td>\n",
       "      <td>0.238182</td>\n",
       "    </tr>\n",
       "    <tr>\n",
       "      <th>Ad Responses</th>\n",
       "      <td>0.220613</td>\n",
       "      <td>0.330752</td>\n",
       "      <td>1.000000</td>\n",
       "      <td>0.996202</td>\n",
       "      <td>0.435179</td>\n",
       "      <td>0.400689</td>\n",
       "    </tr>\n",
       "    <tr>\n",
       "      <th>Impressions</th>\n",
       "      <td>0.192691</td>\n",
       "      <td>0.321995</td>\n",
       "      <td>0.996202</td>\n",
       "      <td>1.000000</td>\n",
       "      <td>0.416792</td>\n",
       "      <td>0.376401</td>\n",
       "    </tr>\n",
       "    <tr>\n",
       "      <th>1st Clicks</th>\n",
       "      <td>0.332629</td>\n",
       "      <td>0.193078</td>\n",
       "      <td>0.435179</td>\n",
       "      <td>0.416792</td>\n",
       "      <td>1.000000</td>\n",
       "      <td>0.634154</td>\n",
       "    </tr>\n",
       "    <tr>\n",
       "      <th>2nd Clicks</th>\n",
       "      <td>0.329001</td>\n",
       "      <td>0.238182</td>\n",
       "      <td>0.400689</td>\n",
       "      <td>0.376401</td>\n",
       "      <td>0.634154</td>\n",
       "      <td>1.000000</td>\n",
       "    </tr>\n",
       "  </tbody>\n",
       "</table>\n",
       "</div>"
      ],
      "text/plain": [
       "               Revenue  Ad Requests  Ad Responses  Impressions  1st Clicks  \\\n",
       "Revenue       1.000000     0.127370      0.220613     0.192691    0.332629   \n",
       "Ad Requests   0.127370     1.000000      0.330752     0.321995    0.193078   \n",
       "Ad Responses  0.220613     0.330752      1.000000     0.996202    0.435179   \n",
       "Impressions   0.192691     0.321995      0.996202     1.000000    0.416792   \n",
       "1st Clicks    0.332629     0.193078      0.435179     0.416792    1.000000   \n",
       "2nd Clicks    0.329001     0.238182      0.400689     0.376401    0.634154   \n",
       "\n",
       "              2nd Clicks  \n",
       "Revenue         0.329001  \n",
       "Ad Requests     0.238182  \n",
       "Ad Responses    0.400689  \n",
       "Impressions     0.376401  \n",
       "1st Clicks      0.634154  \n",
       "2nd Clicks      1.000000  "
      ]
     },
     "execution_count": 101,
     "metadata": {},
     "output_type": "execute_result"
    }
   ],
   "source": [
    "df.corr()"
   ]
  },
  {
   "cell_type": "code",
   "execution_count": 102,
   "metadata": {},
   "outputs": [
    {
     "data": {
      "text/plain": [
       "116"
      ]
     },
     "execution_count": 102,
     "metadata": {},
     "output_type": "execute_result"
    }
   ],
   "source": [
    "df['App'].nunique() #116 Unique Apps"
   ]
  },
  {
   "cell_type": "code",
   "execution_count": 103,
   "metadata": {},
   "outputs": [
    {
     "data": {
      "text/html": [
       "<div>\n",
       "<style scoped>\n",
       "    .dataframe tbody tr th:only-of-type {\n",
       "        vertical-align: middle;\n",
       "    }\n",
       "\n",
       "    .dataframe tbody tr th {\n",
       "        vertical-align: top;\n",
       "    }\n",
       "\n",
       "    .dataframe thead th {\n",
       "        text-align: right;\n",
       "    }\n",
       "</style>\n",
       "<table border=\"1\" class=\"dataframe\">\n",
       "  <thead>\n",
       "    <tr style=\"text-align: right;\">\n",
       "      <th></th>\n",
       "      <th>Date</th>\n",
       "      <th>App</th>\n",
       "      <th>Ad Group</th>\n",
       "      <th>State</th>\n",
       "      <th>Revenue</th>\n",
       "      <th>Ad Requests</th>\n",
       "      <th>Ad Responses</th>\n",
       "      <th>Fill Rate</th>\n",
       "      <th>Impressions</th>\n",
       "      <th>Render Rate</th>\n",
       "      <th>1st Clicks</th>\n",
       "      <th>2nd Clicks</th>\n",
       "    </tr>\n",
       "  </thead>\n",
       "  <tbody>\n",
       "    <tr>\n",
       "      <th>0</th>\n",
       "      <td>08 Sep 2020</td>\n",
       "      <td>(SDK X) Cricket Mazza</td>\n",
       "      <td>Cricket Mazza Banner (AdX)</td>\n",
       "      <td>Unresolved</td>\n",
       "      <td>0.0</td>\n",
       "      <td>3932330</td>\n",
       "      <td>3926253</td>\n",
       "      <td>99.9%</td>\n",
       "      <td>3849749</td>\n",
       "      <td>98.1%</td>\n",
       "      <td>10199</td>\n",
       "      <td>0</td>\n",
       "    </tr>\n",
       "    <tr>\n",
       "      <th>1</th>\n",
       "      <td>08 Sep 2020</td>\n",
       "      <td>(SDK X) Cricket Mazza</td>\n",
       "      <td>320x50</td>\n",
       "      <td>Unresolved</td>\n",
       "      <td>0.0</td>\n",
       "      <td>3932330</td>\n",
       "      <td>119</td>\n",
       "      <td>99.9%</td>\n",
       "      <td>118</td>\n",
       "      <td>99.2%</td>\n",
       "      <td>2</td>\n",
       "      <td>2</td>\n",
       "    </tr>\n",
       "    <tr>\n",
       "      <th>2</th>\n",
       "      <td>08 Sep 2020</td>\n",
       "      <td>(SDK X) Cricket Mazza</td>\n",
       "      <td>Dream11_320x50</td>\n",
       "      <td>Unresolved</td>\n",
       "      <td>0.0</td>\n",
       "      <td>3932330</td>\n",
       "      <td>96</td>\n",
       "      <td>99.9%</td>\n",
       "      <td>93</td>\n",
       "      <td>96.9%</td>\n",
       "      <td>2</td>\n",
       "      <td>2</td>\n",
       "    </tr>\n",
       "    <tr>\n",
       "      <th>3</th>\n",
       "      <td>08 Sep 2020</td>\n",
       "      <td>(SDK X) Cricket Mazza</td>\n",
       "      <td>My11_320x50</td>\n",
       "      <td>Unresolved</td>\n",
       "      <td>0.0</td>\n",
       "      <td>3932330</td>\n",
       "      <td>111</td>\n",
       "      <td>99.9%</td>\n",
       "      <td>110</td>\n",
       "      <td>99.1%</td>\n",
       "      <td>2</td>\n",
       "      <td>2</td>\n",
       "    </tr>\n",
       "    <tr>\n",
       "      <th>4</th>\n",
       "      <td>06 Sep 2020</td>\n",
       "      <td>(SDK X) Cricket Mazza</td>\n",
       "      <td>Cricket Mazza Banner (AdX)</td>\n",
       "      <td>Unresolved</td>\n",
       "      <td>0.0</td>\n",
       "      <td>3839002</td>\n",
       "      <td>3834328</td>\n",
       "      <td>99.9%</td>\n",
       "      <td>3785127</td>\n",
       "      <td>98.7%</td>\n",
       "      <td>9492</td>\n",
       "      <td>0</td>\n",
       "    </tr>\n",
       "  </tbody>\n",
       "</table>\n",
       "</div>"
      ],
      "text/plain": [
       "          Date                     App                    Ad Group  \\\n",
       "0  08 Sep 2020  (SDK X) Cricket Mazza   Cricket Mazza Banner (AdX)   \n",
       "1  08 Sep 2020  (SDK X) Cricket Mazza                       320x50   \n",
       "2  08 Sep 2020  (SDK X) Cricket Mazza               Dream11_320x50   \n",
       "3  08 Sep 2020  (SDK X) Cricket Mazza                  My11_320x50   \n",
       "4  06 Sep 2020  (SDK X) Cricket Mazza   Cricket Mazza Banner (AdX)   \n",
       "\n",
       "        State  Revenue  Ad Requests  Ad Responses Fill Rate  Impressions  \\\n",
       "0  Unresolved      0.0      3932330       3926253     99.9%      3849749   \n",
       "1  Unresolved      0.0      3932330           119     99.9%          118   \n",
       "2  Unresolved      0.0      3932330            96     99.9%           93   \n",
       "3  Unresolved      0.0      3932330           111     99.9%          110   \n",
       "4  Unresolved      0.0      3839002       3834328     99.9%      3785127   \n",
       "\n",
       "  Render Rate  1st Clicks  2nd Clicks  \n",
       "0       98.1%       10199           0  \n",
       "1       99.2%           2           2  \n",
       "2       96.9%           2           2  \n",
       "3       99.1%           2           2  \n",
       "4       98.7%        9492           0  "
      ]
     },
     "execution_count": 103,
     "metadata": {},
     "output_type": "execute_result"
    }
   ],
   "source": [
    "df.head()"
   ]
  },
  {
   "cell_type": "markdown",
   "metadata": {},
   "source": [
    "#### heatmap"
   ]
  },
  {
   "cell_type": "code",
   "execution_count": 105,
   "metadata": {},
   "outputs": [
    {
     "data": {
      "text/plain": [
       "<AxesSubplot:>"
      ]
     },
     "execution_count": 105,
     "metadata": {},
     "output_type": "execute_result"
    },
    {
     "data": {
      "image/png": "[encoded data removed]",
      "text/plain": [
       "<Figure size 360x360 with 2 Axes>"
      ]
     },
     "metadata": {},
     "output_type": "display_data"
    }
   ],
   "source": [
    "sns.set_style(style = \"white\")\n",
    "corr = df.corr()\n",
    "\n",
    "mask = np.triu(np.ones_like(corr, dtype=bool))\n",
    "\n",
    "f,ax = plt.subplots(figsize=(5,5))\n",
    "\n",
    "#cmap = sns.diverging_palette(230,20)\n",
    "\n",
    "sns.heatmap(corr, square = True)"
   ]
  },
  {
   "cell_type": "code",
   "execution_count": 106,
   "metadata": {
    "scrolled": true
   },
   "outputs": [
    {
     "data": {
      "text/html": [
       "<div>\n",
       "<style scoped>\n",
       "    .dataframe tbody tr th:only-of-type {\n",
       "        vertical-align: middle;\n",
       "    }\n",
       "\n",
       "    .dataframe tbody tr th {\n",
       "        vertical-align: top;\n",
       "    }\n",
       "\n",
       "    .dataframe thead th {\n",
       "        text-align: right;\n",
       "    }\n",
       "</style>\n",
       "<table border=\"1\" class=\"dataframe\">\n",
       "  <thead>\n",
       "    <tr style=\"text-align: right;\">\n",
       "      <th></th>\n",
       "      <th>Revenue</th>\n",
       "      <th>Ad Requests</th>\n",
       "      <th>Ad Responses</th>\n",
       "      <th>Impressions</th>\n",
       "      <th>1st Clicks</th>\n",
       "      <th>2nd Clicks</th>\n",
       "    </tr>\n",
       "  </thead>\n",
       "  <tbody>\n",
       "    <tr>\n",
       "      <th>Revenue</th>\n",
       "      <td>1.000000</td>\n",
       "      <td>0.127370</td>\n",
       "      <td>0.220613</td>\n",
       "      <td>0.192691</td>\n",
       "      <td>0.332629</td>\n",
       "      <td>0.329001</td>\n",
       "    </tr>\n",
       "    <tr>\n",
       "      <th>Ad Requests</th>\n",
       "      <td>0.127370</td>\n",
       "      <td>1.000000</td>\n",
       "      <td>0.330752</td>\n",
       "      <td>0.321995</td>\n",
       "      <td>0.193078</td>\n",
       "      <td>0.238182</td>\n",
       "    </tr>\n",
       "    <tr>\n",
       "      <th>Ad Responses</th>\n",
       "      <td>0.220613</td>\n",
       "      <td>0.330752</td>\n",
       "      <td>1.000000</td>\n",
       "      <td>0.996202</td>\n",
       "      <td>0.435179</td>\n",
       "      <td>0.400689</td>\n",
       "    </tr>\n",
       "    <tr>\n",
       "      <th>Impressions</th>\n",
       "      <td>0.192691</td>\n",
       "      <td>0.321995</td>\n",
       "      <td>0.996202</td>\n",
       "      <td>1.000000</td>\n",
       "      <td>0.416792</td>\n",
       "      <td>0.376401</td>\n",
       "    </tr>\n",
       "    <tr>\n",
       "      <th>1st Clicks</th>\n",
       "      <td>0.332629</td>\n",
       "      <td>0.193078</td>\n",
       "      <td>0.435179</td>\n",
       "      <td>0.416792</td>\n",
       "      <td>1.000000</td>\n",
       "      <td>0.634154</td>\n",
       "    </tr>\n",
       "    <tr>\n",
       "      <th>2nd Clicks</th>\n",
       "      <td>0.329001</td>\n",
       "      <td>0.238182</td>\n",
       "      <td>0.400689</td>\n",
       "      <td>0.376401</td>\n",
       "      <td>0.634154</td>\n",
       "      <td>1.000000</td>\n",
       "    </tr>\n",
       "  </tbody>\n",
       "</table>\n",
       "</div>"
      ],
      "text/plain": [
       "               Revenue  Ad Requests  Ad Responses  Impressions  1st Clicks  \\\n",
       "Revenue       1.000000     0.127370      0.220613     0.192691    0.332629   \n",
       "Ad Requests   0.127370     1.000000      0.330752     0.321995    0.193078   \n",
       "Ad Responses  0.220613     0.330752      1.000000     0.996202    0.435179   \n",
       "Impressions   0.192691     0.321995      0.996202     1.000000    0.416792   \n",
       "1st Clicks    0.332629     0.193078      0.435179     0.416792    1.000000   \n",
       "2nd Clicks    0.329001     0.238182      0.400689     0.376401    0.634154   \n",
       "\n",
       "              2nd Clicks  \n",
       "Revenue         0.329001  \n",
       "Ad Requests     0.238182  \n",
       "Ad Responses    0.400689  \n",
       "Impressions     0.376401  \n",
       "1st Clicks      0.634154  \n",
       "2nd Clicks      1.000000  "
      ]
     },
     "execution_count": 106,
     "metadata": {},
     "output_type": "execute_result"
    }
   ],
   "source": [
    "df.corr()"
   ]
  },
  {
   "cell_type": "markdown",
   "metadata": {},
   "source": [
    "#### 1. How would you increase the overall revenue for an app?"
   ]
  },
  {
   "cell_type": "markdown",
   "metadata": {},
   "source": [
    "#### 1. From Entire Table, There is a high correlation between Ad Responses and Impressions. \n",
    "#### 2. In terms of Revenue, there's a high correlation b/w Revenue & 1st Clicks followed by 2nd Clicks.\n",
    "#### 3. Also, if we see 1st Clicks & 2nd clicks have 63% correlation meaning users tend to interact more after 1st clicks to know more about an ad."
   ]
  },
  {
   "cell_type": "code",
   "execution_count": 107,
   "metadata": {},
   "outputs": [
    {
     "data": {
      "text/plain": [
       "0.00    0.868261\n",
       "0.01    0.033787\n",
       "0.02    0.013732\n",
       "0.03    0.007995\n",
       "0.04    0.005962\n",
       "          ...   \n",
       "9.11    0.000023\n",
       "2.42    0.000023\n",
       "3.14    0.000023\n",
       "6.54    0.000023\n",
       "7.98    0.000023\n",
       "Name: Revenue, Length: 364, dtype: float64"
      ]
     },
     "execution_count": 107,
     "metadata": {},
     "output_type": "execute_result"
    }
   ],
   "source": [
    "df['Revenue'].value_counts()/len(df)"
   ]
  },
  {
   "cell_type": "markdown",
   "metadata": {},
   "source": [
    "#### Around 86% of data has 0 OR No Revenue for that particular period of time."
   ]
  },
  {
   "cell_type": "code",
   "execution_count": 110,
   "metadata": {},
   "outputs": [
    {
     "data": {
      "text/html": [
       "<div>\n",
       "<style scoped>\n",
       "    .dataframe tbody tr th:only-of-type {\n",
       "        vertical-align: middle;\n",
       "    }\n",
       "\n",
       "    .dataframe tbody tr th {\n",
       "        vertical-align: top;\n",
       "    }\n",
       "\n",
       "    .dataframe thead th {\n",
       "        text-align: right;\n",
       "    }\n",
       "</style>\n",
       "<table border=\"1\" class=\"dataframe\">\n",
       "  <thead>\n",
       "    <tr style=\"text-align: right;\">\n",
       "      <th></th>\n",
       "      <th>Date</th>\n",
       "      <th>App</th>\n",
       "      <th>Ad Group</th>\n",
       "      <th>State</th>\n",
       "      <th>Revenue</th>\n",
       "      <th>Ad Requests</th>\n",
       "      <th>Ad Responses</th>\n",
       "      <th>Fill Rate</th>\n",
       "      <th>Impressions</th>\n",
       "      <th>Render Rate</th>\n",
       "      <th>1st Clicks</th>\n",
       "      <th>2nd Clicks</th>\n",
       "    </tr>\n",
       "  </thead>\n",
       "  <tbody>\n",
       "    <tr>\n",
       "      <th>0</th>\n",
       "      <td>08 Sep 2020</td>\n",
       "      <td>(SDK X) Cricket Mazza</td>\n",
       "      <td>Cricket Mazza Banner (AdX)</td>\n",
       "      <td>Unresolved</td>\n",
       "      <td>0.0</td>\n",
       "      <td>3932330</td>\n",
       "      <td>3926253</td>\n",
       "      <td>99.9%</td>\n",
       "      <td>3849749</td>\n",
       "      <td>98.1%</td>\n",
       "      <td>10199</td>\n",
       "      <td>0</td>\n",
       "    </tr>\n",
       "    <tr>\n",
       "      <th>1</th>\n",
       "      <td>08 Sep 2020</td>\n",
       "      <td>(SDK X) Cricket Mazza</td>\n",
       "      <td>320x50</td>\n",
       "      <td>Unresolved</td>\n",
       "      <td>0.0</td>\n",
       "      <td>3932330</td>\n",
       "      <td>119</td>\n",
       "      <td>99.9%</td>\n",
       "      <td>118</td>\n",
       "      <td>99.2%</td>\n",
       "      <td>2</td>\n",
       "      <td>2</td>\n",
       "    </tr>\n",
       "    <tr>\n",
       "      <th>2</th>\n",
       "      <td>08 Sep 2020</td>\n",
       "      <td>(SDK X) Cricket Mazza</td>\n",
       "      <td>Dream11_320x50</td>\n",
       "      <td>Unresolved</td>\n",
       "      <td>0.0</td>\n",
       "      <td>3932330</td>\n",
       "      <td>96</td>\n",
       "      <td>99.9%</td>\n",
       "      <td>93</td>\n",
       "      <td>96.9%</td>\n",
       "      <td>2</td>\n",
       "      <td>2</td>\n",
       "    </tr>\n",
       "    <tr>\n",
       "      <th>3</th>\n",
       "      <td>08 Sep 2020</td>\n",
       "      <td>(SDK X) Cricket Mazza</td>\n",
       "      <td>My11_320x50</td>\n",
       "      <td>Unresolved</td>\n",
       "      <td>0.0</td>\n",
       "      <td>3932330</td>\n",
       "      <td>111</td>\n",
       "      <td>99.9%</td>\n",
       "      <td>110</td>\n",
       "      <td>99.1%</td>\n",
       "      <td>2</td>\n",
       "      <td>2</td>\n",
       "    </tr>\n",
       "    <tr>\n",
       "      <th>4</th>\n",
       "      <td>06 Sep 2020</td>\n",
       "      <td>(SDK X) Cricket Mazza</td>\n",
       "      <td>Cricket Mazza Banner (AdX)</td>\n",
       "      <td>Unresolved</td>\n",
       "      <td>0.0</td>\n",
       "      <td>3839002</td>\n",
       "      <td>3834328</td>\n",
       "      <td>99.9%</td>\n",
       "      <td>3785127</td>\n",
       "      <td>98.7%</td>\n",
       "      <td>9492</td>\n",
       "      <td>0</td>\n",
       "    </tr>\n",
       "  </tbody>\n",
       "</table>\n",
       "</div>"
      ],
      "text/plain": [
       "          Date                     App                    Ad Group  \\\n",
       "0  08 Sep 2020  (SDK X) Cricket Mazza   Cricket Mazza Banner (AdX)   \n",
       "1  08 Sep 2020  (SDK X) Cricket Mazza                       320x50   \n",
       "2  08 Sep 2020  (SDK X) Cricket Mazza               Dream11_320x50   \n",
       "3  08 Sep 2020  (SDK X) Cricket Mazza                  My11_320x50   \n",
       "4  06 Sep 2020  (SDK X) Cricket Mazza   Cricket Mazza Banner (AdX)   \n",
       "\n",
       "        State  Revenue  Ad Requests  Ad Responses Fill Rate  Impressions  \\\n",
       "0  Unresolved      0.0      3932330       3926253     99.9%      3849749   \n",
       "1  Unresolved      0.0      3932330           119     99.9%          118   \n",
       "2  Unresolved      0.0      3932330            96     99.9%           93   \n",
       "3  Unresolved      0.0      3932330           111     99.9%          110   \n",
       "4  Unresolved      0.0      3839002       3834328     99.9%      3785127   \n",
       "\n",
       "  Render Rate  1st Clicks  2nd Clicks  \n",
       "0       98.1%       10199           0  \n",
       "1       99.2%           2           2  \n",
       "2       96.9%           2           2  \n",
       "3       99.1%           2           2  \n",
       "4       98.7%        9492           0  "
      ]
     },
     "execution_count": 110,
     "metadata": {},
     "output_type": "execute_result"
    }
   ],
   "source": [
    "df.head()"
   ]
  },
  {
   "cell_type": "markdown",
   "metadata": {},
   "source": [
    "#### To increase overall revenue of the apps, we can Raise the prices or Increase our customer base. "
   ]
  },
  {
   "cell_type": "markdown",
   "metadata": {},
   "source": [
    "#### As mentioned earlier, around 86% of data has 0 revenue. If we can focus on these Apps it can improve the overall revenue. "
   ]
  },
  {
   "cell_type": "markdown",
   "metadata": {},
   "source": [
    "#### 2. Are there any discrepancies in the data set shared with you? What are the possible reasons for such mismatch?"
   ]
  },
  {
   "cell_type": "code",
   "execution_count": 136,
   "metadata": {},
   "outputs": [],
   "source": [
    "###Fill Rate--> % of Ad Responses on Ad Requests\n",
    "###Render Rate--> % of Impressions on Ad Responses"
   ]
  },
  {
   "cell_type": "code",
   "execution_count": 138,
   "metadata": {},
   "outputs": [
    {
     "data": {
      "text/html": [
       "<div>\n",
       "<style scoped>\n",
       "    .dataframe tbody tr th:only-of-type {\n",
       "        vertical-align: middle;\n",
       "    }\n",
       "\n",
       "    .dataframe tbody tr th {\n",
       "        vertical-align: top;\n",
       "    }\n",
       "\n",
       "    .dataframe thead th {\n",
       "        text-align: right;\n",
       "    }\n",
       "</style>\n",
       "<table border=\"1\" class=\"dataframe\">\n",
       "  <thead>\n",
       "    <tr style=\"text-align: right;\">\n",
       "      <th></th>\n",
       "      <th>Date</th>\n",
       "      <th>App</th>\n",
       "      <th>Ad Group</th>\n",
       "      <th>State</th>\n",
       "      <th>Revenue</th>\n",
       "      <th>Ad Requests</th>\n",
       "      <th>Ad Responses</th>\n",
       "      <th>Fill Rate</th>\n",
       "      <th>Impressions</th>\n",
       "      <th>Render Rate</th>\n",
       "      <th>1st Clicks</th>\n",
       "      <th>2nd Clicks</th>\n",
       "    </tr>\n",
       "  </thead>\n",
       "  <tbody>\n",
       "    <tr>\n",
       "      <th>0</th>\n",
       "      <td>08 Sep 2020</td>\n",
       "      <td>(SDK X) Cricket Mazza</td>\n",
       "      <td>Cricket Mazza Banner (AdX)</td>\n",
       "      <td>Unresolved</td>\n",
       "      <td>0.00</td>\n",
       "      <td>3932330</td>\n",
       "      <td>3926253</td>\n",
       "      <td>99.9%</td>\n",
       "      <td>3849749</td>\n",
       "      <td>98.1%</td>\n",
       "      <td>10199</td>\n",
       "      <td>0</td>\n",
       "    </tr>\n",
       "    <tr>\n",
       "      <th>1</th>\n",
       "      <td>08 Sep 2020</td>\n",
       "      <td>(SDK X) Cricket Mazza</td>\n",
       "      <td>320x50</td>\n",
       "      <td>Unresolved</td>\n",
       "      <td>0.00</td>\n",
       "      <td>3932330</td>\n",
       "      <td>119</td>\n",
       "      <td>99.9%</td>\n",
       "      <td>118</td>\n",
       "      <td>99.2%</td>\n",
       "      <td>2</td>\n",
       "      <td>2</td>\n",
       "    </tr>\n",
       "    <tr>\n",
       "      <th>2</th>\n",
       "      <td>08 Sep 2020</td>\n",
       "      <td>(SDK X) Cricket Mazza</td>\n",
       "      <td>Dream11_320x50</td>\n",
       "      <td>Unresolved</td>\n",
       "      <td>0.00</td>\n",
       "      <td>3932330</td>\n",
       "      <td>96</td>\n",
       "      <td>99.9%</td>\n",
       "      <td>93</td>\n",
       "      <td>96.9%</td>\n",
       "      <td>2</td>\n",
       "      <td>2</td>\n",
       "    </tr>\n",
       "    <tr>\n",
       "      <th>3</th>\n",
       "      <td>08 Sep 2020</td>\n",
       "      <td>(SDK X) Cricket Mazza</td>\n",
       "      <td>My11_320x50</td>\n",
       "      <td>Unresolved</td>\n",
       "      <td>0.00</td>\n",
       "      <td>3932330</td>\n",
       "      <td>111</td>\n",
       "      <td>99.9%</td>\n",
       "      <td>110</td>\n",
       "      <td>99.1%</td>\n",
       "      <td>2</td>\n",
       "      <td>2</td>\n",
       "    </tr>\n",
       "    <tr>\n",
       "      <th>4</th>\n",
       "      <td>06 Sep 2020</td>\n",
       "      <td>(SDK X) Cricket Mazza</td>\n",
       "      <td>Cricket Mazza Banner (AdX)</td>\n",
       "      <td>Unresolved</td>\n",
       "      <td>0.00</td>\n",
       "      <td>3839002</td>\n",
       "      <td>3834328</td>\n",
       "      <td>99.9%</td>\n",
       "      <td>3785127</td>\n",
       "      <td>98.7%</td>\n",
       "      <td>9492</td>\n",
       "      <td>0</td>\n",
       "    </tr>\n",
       "    <tr>\n",
       "      <th>5</th>\n",
       "      <td>06 Sep 2020</td>\n",
       "      <td>(SDK X) Cricket Mazza</td>\n",
       "      <td>320x50</td>\n",
       "      <td>Unresolved</td>\n",
       "      <td>0.00</td>\n",
       "      <td>3839002</td>\n",
       "      <td>101</td>\n",
       "      <td>99.9%</td>\n",
       "      <td>101</td>\n",
       "      <td>100%</td>\n",
       "      <td>0</td>\n",
       "      <td>0</td>\n",
       "    </tr>\n",
       "    <tr>\n",
       "      <th>6</th>\n",
       "      <td>06 Sep 2020</td>\n",
       "      <td>(SDK X) Cricket Mazza</td>\n",
       "      <td>Dream11_320x50</td>\n",
       "      <td>Unresolved</td>\n",
       "      <td>0.00</td>\n",
       "      <td>3839002</td>\n",
       "      <td>126</td>\n",
       "      <td>99.9%</td>\n",
       "      <td>121</td>\n",
       "      <td>96.0%</td>\n",
       "      <td>1</td>\n",
       "      <td>1</td>\n",
       "    </tr>\n",
       "    <tr>\n",
       "      <th>7</th>\n",
       "      <td>06 Sep 2020</td>\n",
       "      <td>(SDK X) Cricket Mazza</td>\n",
       "      <td>My11_320x50</td>\n",
       "      <td>Unresolved</td>\n",
       "      <td>0.00</td>\n",
       "      <td>3839002</td>\n",
       "      <td>115</td>\n",
       "      <td>99.9%</td>\n",
       "      <td>111</td>\n",
       "      <td>96.5%</td>\n",
       "      <td>1</td>\n",
       "      <td>1</td>\n",
       "    </tr>\n",
       "    <tr>\n",
       "      <th>8</th>\n",
       "      <td>06 Sep 2020</td>\n",
       "      <td>Callbreak Multiplayer</td>\n",
       "      <td>Rummy77</td>\n",
       "      <td>Uttar Pradesh</td>\n",
       "      <td>0.00</td>\n",
       "      <td>3702040</td>\n",
       "      <td>245485</td>\n",
       "      <td>100%</td>\n",
       "      <td>227097</td>\n",
       "      <td>92.5%</td>\n",
       "      <td>1464</td>\n",
       "      <td>410</td>\n",
       "    </tr>\n",
       "    <tr>\n",
       "      <th>9</th>\n",
       "      <td>06 Sep 2020</td>\n",
       "      <td>Callbreak Multiplayer</td>\n",
       "      <td>New creative</td>\n",
       "      <td>Uttar Pradesh</td>\n",
       "      <td>1.32</td>\n",
       "      <td>3702040</td>\n",
       "      <td>246124</td>\n",
       "      <td>100%</td>\n",
       "      <td>227170</td>\n",
       "      <td>92.3%</td>\n",
       "      <td>1583</td>\n",
       "      <td>396</td>\n",
       "    </tr>\n",
       "    <tr>\n",
       "      <th>10</th>\n",
       "      <td>06 Sep 2020</td>\n",
       "      <td>Callbreak Multiplayer</td>\n",
       "      <td>creative_aug</td>\n",
       "      <td>Uttar Pradesh</td>\n",
       "      <td>0.66</td>\n",
       "      <td>3702040</td>\n",
       "      <td>245981</td>\n",
       "      <td>100%</td>\n",
       "      <td>227060</td>\n",
       "      <td>92.3%</td>\n",
       "      <td>1535</td>\n",
       "      <td>369</td>\n",
       "    </tr>\n",
       "    <tr>\n",
       "      <th>11</th>\n",
       "      <td>06 Sep 2020</td>\n",
       "      <td>Callbreak Multiplayer</td>\n",
       "      <td>Nov New</td>\n",
       "      <td>Uttar Pradesh</td>\n",
       "      <td>2.64</td>\n",
       "      <td>3702040</td>\n",
       "      <td>245851</td>\n",
       "      <td>100%</td>\n",
       "      <td>226895</td>\n",
       "      <td>92.3%</td>\n",
       "      <td>1452</td>\n",
       "      <td>365</td>\n",
       "    </tr>\n",
       "    <tr>\n",
       "      <th>12</th>\n",
       "      <td>06 Sep 2020</td>\n",
       "      <td>Callbreak Multiplayer</td>\n",
       "      <td>revshare</td>\n",
       "      <td>Uttar Pradesh</td>\n",
       "      <td>0.00</td>\n",
       "      <td>3702040</td>\n",
       "      <td>5</td>\n",
       "      <td>100%</td>\n",
       "      <td>4</td>\n",
       "      <td>80.00%</td>\n",
       "      <td>0</td>\n",
       "      <td>0</td>\n",
       "    </tr>\n",
       "    <tr>\n",
       "      <th>13</th>\n",
       "      <td>06 Sep 2020</td>\n",
       "      <td>Callbreak Multiplayer</td>\n",
       "      <td>Rooter_Callbreak</td>\n",
       "      <td>Uttar Pradesh</td>\n",
       "      <td>0.52</td>\n",
       "      <td>3702040</td>\n",
       "      <td>190575</td>\n",
       "      <td>100%</td>\n",
       "      <td>177858</td>\n",
       "      <td>93.3%</td>\n",
       "      <td>1064</td>\n",
       "      <td>1049</td>\n",
       "    </tr>\n",
       "    <tr>\n",
       "      <th>14</th>\n",
       "      <td>06 Sep 2020</td>\n",
       "      <td>Callbreak Multiplayer</td>\n",
       "      <td>Callbreak Multiplayer2_Inmobi_No Floor</td>\n",
       "      <td>Uttar Pradesh</td>\n",
       "      <td>1.37</td>\n",
       "      <td>3702040</td>\n",
       "      <td>18797</td>\n",
       "      <td>100%</td>\n",
       "      <td>14648</td>\n",
       "      <td>77.93%</td>\n",
       "      <td>384</td>\n",
       "      <td>120</td>\n",
       "    </tr>\n",
       "  </tbody>\n",
       "</table>\n",
       "</div>"
      ],
      "text/plain": [
       "           Date                     App  \\\n",
       "0   08 Sep 2020  (SDK X) Cricket Mazza    \n",
       "1   08 Sep 2020  (SDK X) Cricket Mazza    \n",
       "2   08 Sep 2020  (SDK X) Cricket Mazza    \n",
       "3   08 Sep 2020  (SDK X) Cricket Mazza    \n",
       "4   06 Sep 2020  (SDK X) Cricket Mazza    \n",
       "5   06 Sep 2020  (SDK X) Cricket Mazza    \n",
       "6   06 Sep 2020  (SDK X) Cricket Mazza    \n",
       "7   06 Sep 2020  (SDK X) Cricket Mazza    \n",
       "8   06 Sep 2020   Callbreak Multiplayer   \n",
       "9   06 Sep 2020   Callbreak Multiplayer   \n",
       "10  06 Sep 2020   Callbreak Multiplayer   \n",
       "11  06 Sep 2020   Callbreak Multiplayer   \n",
       "12  06 Sep 2020   Callbreak Multiplayer   \n",
       "13  06 Sep 2020   Callbreak Multiplayer   \n",
       "14  06 Sep 2020   Callbreak Multiplayer   \n",
       "\n",
       "                                  Ad Group          State  Revenue  \\\n",
       "0               Cricket Mazza Banner (AdX)     Unresolved     0.00   \n",
       "1                                   320x50     Unresolved     0.00   \n",
       "2                           Dream11_320x50     Unresolved     0.00   \n",
       "3                              My11_320x50     Unresolved     0.00   \n",
       "4               Cricket Mazza Banner (AdX)     Unresolved     0.00   \n",
       "5                                   320x50     Unresolved     0.00   \n",
       "6                           Dream11_320x50     Unresolved     0.00   \n",
       "7                              My11_320x50     Unresolved     0.00   \n",
       "8                                  Rummy77  Uttar Pradesh     0.00   \n",
       "9                             New creative  Uttar Pradesh     1.32   \n",
       "10                            creative_aug  Uttar Pradesh     0.66   \n",
       "11                                 Nov New  Uttar Pradesh     2.64   \n",
       "12                                revshare  Uttar Pradesh     0.00   \n",
       "13                        Rooter_Callbreak  Uttar Pradesh     0.52   \n",
       "14  Callbreak Multiplayer2_Inmobi_No Floor  Uttar Pradesh     1.37   \n",
       "\n",
       "    Ad Requests  Ad Responses Fill Rate  Impressions Render Rate  1st Clicks  \\\n",
       "0       3932330       3926253     99.9%      3849749       98.1%       10199   \n",
       "1       3932330           119     99.9%          118       99.2%           2   \n",
       "2       3932330            96     99.9%           93       96.9%           2   \n",
       "3       3932330           111     99.9%          110       99.1%           2   \n",
       "4       3839002       3834328     99.9%      3785127       98.7%        9492   \n",
       "5       3839002           101     99.9%          101        100%           0   \n",
       "6       3839002           126     99.9%          121       96.0%           1   \n",
       "7       3839002           115     99.9%          111       96.5%           1   \n",
       "8       3702040        245485      100%       227097       92.5%        1464   \n",
       "9       3702040        246124      100%       227170       92.3%        1583   \n",
       "10      3702040        245981      100%       227060       92.3%        1535   \n",
       "11      3702040        245851      100%       226895       92.3%        1452   \n",
       "12      3702040             5      100%            4      80.00%           0   \n",
       "13      3702040        190575      100%       177858       93.3%        1064   \n",
       "14      3702040         18797      100%        14648      77.93%         384   \n",
       "\n",
       "    2nd Clicks  \n",
       "0            0  \n",
       "1            2  \n",
       "2            2  \n",
       "3            2  \n",
       "4            0  \n",
       "5            0  \n",
       "6            1  \n",
       "7            1  \n",
       "8          410  \n",
       "9          396  \n",
       "10         369  \n",
       "11         365  \n",
       "12           0  \n",
       "13        1049  \n",
       "14         120  "
      ]
     },
     "execution_count": 138,
     "metadata": {},
     "output_type": "execute_result"
    }
   ],
   "source": [
    "df.head(15)"
   ]
  },
  {
   "cell_type": "code",
   "execution_count": 135,
   "metadata": {},
   "outputs": [],
   "source": [
    "###Fill Rate--> % of Ad Responses on Ad Requests\n",
    "###Render Rate--> % of Impressions on Ad Responses"
   ]
  },
  {
   "cell_type": "markdown",
   "metadata": {},
   "source": [
    "#### There are few discrepancies or fault information in column Fill Rate"
   ]
  },
  {
   "cell_type": "code",
   "execution_count": 113,
   "metadata": {},
   "outputs": [
    {
     "data": {
      "text/plain": [
       "0.05147837408563927"
      ]
     },
     "execution_count": 113,
     "metadata": {},
     "output_type": "execute_result"
    }
   ],
   "source": [
    "#### For Instance, Lets look for few rows. \n",
    "#index- 13\n",
    "190575/3702040"
   ]
  },
  {
   "cell_type": "code",
   "execution_count": 114,
   "metadata": {},
   "outputs": [
    {
     "data": {
      "text/plain": [
       "0.005077470799883308"
      ]
     },
     "execution_count": 114,
     "metadata": {},
     "output_type": "execute_result"
    }
   ],
   "source": [
    "#index-14\n",
    "18797/3702040"
   ]
  },
  {
   "cell_type": "code",
   "execution_count": 115,
   "metadata": {},
   "outputs": [
    {
     "data": {
      "text/plain": [
       "0.06631073678296291"
      ]
     },
     "execution_count": 115,
     "metadata": {},
     "output_type": "execute_result"
    }
   ],
   "source": [
    "245485/3702040"
   ]
  },
  {
   "cell_type": "code",
   "execution_count": 116,
   "metadata": {},
   "outputs": [
    {
     "data": {
      "text/plain": [
       "0.06644471696686151"
      ]
     },
     "execution_count": 116,
     "metadata": {},
     "output_type": "execute_result"
    }
   ],
   "source": [
    "245981/3702040"
   ]
  },
  {
   "cell_type": "markdown",
   "metadata": {},
   "source": [
    "#### So, these are just few samples but there're many other discrepancies in data. Reason is simple, just a miscalculation. "
   ]
  },
  {
   "cell_type": "markdown",
   "metadata": {},
   "source": [
    "#### Render Rate has no error"
   ]
  },
  {
   "cell_type": "markdown",
   "metadata": {},
   "source": [
    "#### 3. If you had a classification mechanism, which apps would you classify as Tier 1 or Important category for GG? Explain your reasoning.\n"
   ]
  },
  {
   "cell_type": "code",
   "execution_count": 117,
   "metadata": {},
   "outputs": [
    {
     "data": {
      "text/html": [
       "<div>\n",
       "<style scoped>\n",
       "    .dataframe tbody tr th:only-of-type {\n",
       "        vertical-align: middle;\n",
       "    }\n",
       "\n",
       "    .dataframe tbody tr th {\n",
       "        vertical-align: top;\n",
       "    }\n",
       "\n",
       "    .dataframe thead th {\n",
       "        text-align: right;\n",
       "    }\n",
       "</style>\n",
       "<table border=\"1\" class=\"dataframe\">\n",
       "  <thead>\n",
       "    <tr style=\"text-align: right;\">\n",
       "      <th></th>\n",
       "      <th>Date</th>\n",
       "      <th>App</th>\n",
       "      <th>Ad Group</th>\n",
       "      <th>State</th>\n",
       "      <th>Revenue</th>\n",
       "      <th>Ad Requests</th>\n",
       "      <th>Ad Responses</th>\n",
       "      <th>Fill Rate</th>\n",
       "      <th>Impressions</th>\n",
       "      <th>Render Rate</th>\n",
       "      <th>1st Clicks</th>\n",
       "      <th>2nd Clicks</th>\n",
       "    </tr>\n",
       "  </thead>\n",
       "  <tbody>\n",
       "    <tr>\n",
       "      <th>0</th>\n",
       "      <td>08 Sep 2020</td>\n",
       "      <td>(SDK X) Cricket Mazza</td>\n",
       "      <td>Cricket Mazza Banner (AdX)</td>\n",
       "      <td>Unresolved</td>\n",
       "      <td>0.0</td>\n",
       "      <td>3932330</td>\n",
       "      <td>3926253</td>\n",
       "      <td>99.9%</td>\n",
       "      <td>3849749</td>\n",
       "      <td>98.1%</td>\n",
       "      <td>10199</td>\n",
       "      <td>0</td>\n",
       "    </tr>\n",
       "    <tr>\n",
       "      <th>1</th>\n",
       "      <td>08 Sep 2020</td>\n",
       "      <td>(SDK X) Cricket Mazza</td>\n",
       "      <td>320x50</td>\n",
       "      <td>Unresolved</td>\n",
       "      <td>0.0</td>\n",
       "      <td>3932330</td>\n",
       "      <td>119</td>\n",
       "      <td>99.9%</td>\n",
       "      <td>118</td>\n",
       "      <td>99.2%</td>\n",
       "      <td>2</td>\n",
       "      <td>2</td>\n",
       "    </tr>\n",
       "    <tr>\n",
       "      <th>2</th>\n",
       "      <td>08 Sep 2020</td>\n",
       "      <td>(SDK X) Cricket Mazza</td>\n",
       "      <td>Dream11_320x50</td>\n",
       "      <td>Unresolved</td>\n",
       "      <td>0.0</td>\n",
       "      <td>3932330</td>\n",
       "      <td>96</td>\n",
       "      <td>99.9%</td>\n",
       "      <td>93</td>\n",
       "      <td>96.9%</td>\n",
       "      <td>2</td>\n",
       "      <td>2</td>\n",
       "    </tr>\n",
       "    <tr>\n",
       "      <th>3</th>\n",
       "      <td>08 Sep 2020</td>\n",
       "      <td>(SDK X) Cricket Mazza</td>\n",
       "      <td>My11_320x50</td>\n",
       "      <td>Unresolved</td>\n",
       "      <td>0.0</td>\n",
       "      <td>3932330</td>\n",
       "      <td>111</td>\n",
       "      <td>99.9%</td>\n",
       "      <td>110</td>\n",
       "      <td>99.1%</td>\n",
       "      <td>2</td>\n",
       "      <td>2</td>\n",
       "    </tr>\n",
       "    <tr>\n",
       "      <th>4</th>\n",
       "      <td>06 Sep 2020</td>\n",
       "      <td>(SDK X) Cricket Mazza</td>\n",
       "      <td>Cricket Mazza Banner (AdX)</td>\n",
       "      <td>Unresolved</td>\n",
       "      <td>0.0</td>\n",
       "      <td>3839002</td>\n",
       "      <td>3834328</td>\n",
       "      <td>99.9%</td>\n",
       "      <td>3785127</td>\n",
       "      <td>98.7%</td>\n",
       "      <td>9492</td>\n",
       "      <td>0</td>\n",
       "    </tr>\n",
       "  </tbody>\n",
       "</table>\n",
       "</div>"
      ],
      "text/plain": [
       "          Date                     App                    Ad Group  \\\n",
       "0  08 Sep 2020  (SDK X) Cricket Mazza   Cricket Mazza Banner (AdX)   \n",
       "1  08 Sep 2020  (SDK X) Cricket Mazza                       320x50   \n",
       "2  08 Sep 2020  (SDK X) Cricket Mazza               Dream11_320x50   \n",
       "3  08 Sep 2020  (SDK X) Cricket Mazza                  My11_320x50   \n",
       "4  06 Sep 2020  (SDK X) Cricket Mazza   Cricket Mazza Banner (AdX)   \n",
       "\n",
       "        State  Revenue  Ad Requests  Ad Responses Fill Rate  Impressions  \\\n",
       "0  Unresolved      0.0      3932330       3926253     99.9%      3849749   \n",
       "1  Unresolved      0.0      3932330           119     99.9%          118   \n",
       "2  Unresolved      0.0      3932330            96     99.9%           93   \n",
       "3  Unresolved      0.0      3932330           111     99.9%          110   \n",
       "4  Unresolved      0.0      3839002       3834328     99.9%      3785127   \n",
       "\n",
       "  Render Rate  1st Clicks  2nd Clicks  \n",
       "0       98.1%       10199           0  \n",
       "1       99.2%           2           2  \n",
       "2       96.9%           2           2  \n",
       "3       99.1%           2           2  \n",
       "4       98.7%        9492           0  "
      ]
     },
     "execution_count": 117,
     "metadata": {},
     "output_type": "execute_result"
    }
   ],
   "source": [
    "df.head()"
   ]
  },
  {
   "cell_type": "code",
   "execution_count": 154,
   "metadata": {},
   "outputs": [
    {
     "data": {
      "text/plain": [
       "0.00    0.868261\n",
       "0.01    0.033787\n",
       "0.02    0.013732\n",
       "0.03    0.007995\n",
       "0.04    0.005962\n",
       "          ...   \n",
       "9.11    0.000023\n",
       "2.42    0.000023\n",
       "3.14    0.000023\n",
       "6.54    0.000023\n",
       "7.98    0.000023\n",
       "Name: Revenue, Length: 364, dtype: float64"
      ]
     },
     "execution_count": 154,
     "metadata": {},
     "output_type": "execute_result"
    }
   ],
   "source": [
    "df['Revenue'].value_counts()/len(df)"
   ]
  },
  {
   "cell_type": "markdown",
   "metadata": {},
   "source": [
    "#### As we can see there are few apps with 0 revenue. So, I have decided to categorize them based on Mean."
   ]
  },
  {
   "cell_type": "code",
   "execution_count": 118,
   "metadata": {},
   "outputs": [
    {
     "data": {
      "text/plain": [
       "0.07844275809111796"
      ]
     },
     "execution_count": 118,
     "metadata": {},
     "output_type": "execute_result"
    }
   ],
   "source": [
    "df['Revenue'].mean()"
   ]
  },
  {
   "cell_type": "code",
   "execution_count": 215,
   "metadata": {},
   "outputs": [
    {
     "data": {
      "text/plain": [
       "1.322404520654719"
      ]
     },
     "execution_count": 215,
     "metadata": {},
     "output_type": "execute_result"
    }
   ],
   "source": [
    "Revenue_mean['Revenue'].mean()"
   ]
  },
  {
   "cell_type": "markdown",
   "metadata": {},
   "source": [
    "#### As we can see Revenue_mean(Filtered) Mean is greater than original Dataset"
   ]
  },
  {
   "cell_type": "code",
   "execution_count": 119,
   "metadata": {},
   "outputs": [],
   "source": [
    "### Filtering datasets with Revenue mean \n",
    "Revenue_mean = df[df['Revenue']>df['Revenue'].mean()]"
   ]
  },
  {
   "cell_type": "code",
   "execution_count": 120,
   "metadata": {},
   "outputs": [
    {
     "data": {
      "text/plain": [
       "(2566, 12)"
      ]
     },
     "execution_count": 120,
     "metadata": {},
     "output_type": "execute_result"
    }
   ],
   "source": [
    "Revenue_mean.shape"
   ]
  },
  {
   "cell_type": "code",
   "execution_count": 121,
   "metadata": {},
   "outputs": [
    {
     "data": {
      "text/html": [
       "<div>\n",
       "<style scoped>\n",
       "    .dataframe tbody tr th:only-of-type {\n",
       "        vertical-align: middle;\n",
       "    }\n",
       "\n",
       "    .dataframe tbody tr th {\n",
       "        vertical-align: top;\n",
       "    }\n",
       "\n",
       "    .dataframe thead th {\n",
       "        text-align: right;\n",
       "    }\n",
       "</style>\n",
       "<table border=\"1\" class=\"dataframe\">\n",
       "  <thead>\n",
       "    <tr style=\"text-align: right;\">\n",
       "      <th></th>\n",
       "      <th>Date</th>\n",
       "      <th>App</th>\n",
       "      <th>Ad Group</th>\n",
       "      <th>State</th>\n",
       "      <th>Revenue</th>\n",
       "      <th>Ad Requests</th>\n",
       "      <th>Ad Responses</th>\n",
       "      <th>Fill Rate</th>\n",
       "      <th>Impressions</th>\n",
       "      <th>Render Rate</th>\n",
       "      <th>1st Clicks</th>\n",
       "      <th>2nd Clicks</th>\n",
       "    </tr>\n",
       "  </thead>\n",
       "  <tbody>\n",
       "    <tr>\n",
       "      <th>9</th>\n",
       "      <td>06 Sep 2020</td>\n",
       "      <td>Callbreak Multiplayer</td>\n",
       "      <td>New creative</td>\n",
       "      <td>Uttar Pradesh</td>\n",
       "      <td>1.32</td>\n",
       "      <td>3702040</td>\n",
       "      <td>246124</td>\n",
       "      <td>100%</td>\n",
       "      <td>227170</td>\n",
       "      <td>92.3%</td>\n",
       "      <td>1583</td>\n",
       "      <td>396</td>\n",
       "    </tr>\n",
       "    <tr>\n",
       "      <th>10</th>\n",
       "      <td>06 Sep 2020</td>\n",
       "      <td>Callbreak Multiplayer</td>\n",
       "      <td>creative_aug</td>\n",
       "      <td>Uttar Pradesh</td>\n",
       "      <td>0.66</td>\n",
       "      <td>3702040</td>\n",
       "      <td>245981</td>\n",
       "      <td>100%</td>\n",
       "      <td>227060</td>\n",
       "      <td>92.3%</td>\n",
       "      <td>1535</td>\n",
       "      <td>369</td>\n",
       "    </tr>\n",
       "    <tr>\n",
       "      <th>11</th>\n",
       "      <td>06 Sep 2020</td>\n",
       "      <td>Callbreak Multiplayer</td>\n",
       "      <td>Nov New</td>\n",
       "      <td>Uttar Pradesh</td>\n",
       "      <td>2.64</td>\n",
       "      <td>3702040</td>\n",
       "      <td>245851</td>\n",
       "      <td>100%</td>\n",
       "      <td>226895</td>\n",
       "      <td>92.3%</td>\n",
       "      <td>1452</td>\n",
       "      <td>365</td>\n",
       "    </tr>\n",
       "    <tr>\n",
       "      <th>13</th>\n",
       "      <td>06 Sep 2020</td>\n",
       "      <td>Callbreak Multiplayer</td>\n",
       "      <td>Rooter_Callbreak</td>\n",
       "      <td>Uttar Pradesh</td>\n",
       "      <td>0.52</td>\n",
       "      <td>3702040</td>\n",
       "      <td>190575</td>\n",
       "      <td>100%</td>\n",
       "      <td>177858</td>\n",
       "      <td>93.3%</td>\n",
       "      <td>1064</td>\n",
       "      <td>1049</td>\n",
       "    </tr>\n",
       "    <tr>\n",
       "      <th>14</th>\n",
       "      <td>06 Sep 2020</td>\n",
       "      <td>Callbreak Multiplayer</td>\n",
       "      <td>Callbreak Multiplayer2_Inmobi_No Floor</td>\n",
       "      <td>Uttar Pradesh</td>\n",
       "      <td>1.37</td>\n",
       "      <td>3702040</td>\n",
       "      <td>18797</td>\n",
       "      <td>100%</td>\n",
       "      <td>14648</td>\n",
       "      <td>77.93%</td>\n",
       "      <td>384</td>\n",
       "      <td>120</td>\n",
       "    </tr>\n",
       "  </tbody>\n",
       "</table>\n",
       "</div>"
      ],
      "text/plain": [
       "           Date                    App  \\\n",
       "9   06 Sep 2020  Callbreak Multiplayer   \n",
       "10  06 Sep 2020  Callbreak Multiplayer   \n",
       "11  06 Sep 2020  Callbreak Multiplayer   \n",
       "13  06 Sep 2020  Callbreak Multiplayer   \n",
       "14  06 Sep 2020  Callbreak Multiplayer   \n",
       "\n",
       "                                  Ad Group          State  Revenue  \\\n",
       "9                             New creative  Uttar Pradesh     1.32   \n",
       "10                            creative_aug  Uttar Pradesh     0.66   \n",
       "11                                 Nov New  Uttar Pradesh     2.64   \n",
       "13                        Rooter_Callbreak  Uttar Pradesh     0.52   \n",
       "14  Callbreak Multiplayer2_Inmobi_No Floor  Uttar Pradesh     1.37   \n",
       "\n",
       "    Ad Requests  Ad Responses Fill Rate  Impressions Render Rate  1st Clicks  \\\n",
       "9       3702040        246124      100%       227170       92.3%        1583   \n",
       "10      3702040        245981      100%       227060       92.3%        1535   \n",
       "11      3702040        245851      100%       226895       92.3%        1452   \n",
       "13      3702040        190575      100%       177858       93.3%        1064   \n",
       "14      3702040         18797      100%        14648      77.93%         384   \n",
       "\n",
       "    2nd Clicks  \n",
       "9          396  \n",
       "10         369  \n",
       "11         365  \n",
       "13        1049  \n",
       "14         120  "
      ]
     },
     "execution_count": 121,
     "metadata": {},
     "output_type": "execute_result"
    }
   ],
   "source": [
    "Revenue_mean.head()"
   ]
  },
  {
   "cell_type": "code",
   "execution_count": 122,
   "metadata": {},
   "outputs": [
    {
     "data": {
      "text/plain": [
       "42.39"
      ]
     },
     "execution_count": 122,
     "metadata": {},
     "output_type": "execute_result"
    }
   ],
   "source": [
    "Revenue_mean['Revenue'].max()  #Highest Revenue for an App is 42.39"
   ]
  },
  {
   "cell_type": "code",
   "execution_count": 123,
   "metadata": {},
   "outputs": [
    {
     "data": {
      "text/plain": [
       "30"
      ]
     },
     "execution_count": 123,
     "metadata": {},
     "output_type": "execute_result"
    }
   ],
   "source": [
    "Revenue_mean['App'].nunique() #### There are 30 Unique Apps with Mean Revenue"
   ]
  },
  {
   "cell_type": "code",
   "execution_count": 124,
   "metadata": {},
   "outputs": [
    {
     "data": {
      "text/plain": [
       "array(['Callbreak Multiplayer', '(SDK X) Cricket Mazza ',\n",
       "       'Bottle Shooting Game', 'World Cricket Championship 2',\n",
       "       'Mindi Offline', 'Traffic Bangalore: Check Fines', 'Odia Calendar',\n",
       "       'Odia (Oriya) Calendar', 'Farm Frenzy Free: Time management game',\n",
       "       'Indian Rummy Offline', 'Bus Simulator Indonesia', 'Sticker Maker',\n",
       "       'World Cricket Championship  Lt', 'Live Talk', 'Skymet Weather',\n",
       "       'Shiva Winter Biking Tales',\n",
       "       'Talk Now – Audio Chat to English speaking practice',\n",
       "       'Indian Train Simulator 2018', 'Shiva Cycling Adventure',\n",
       "       'City Car Racing Simulator 2018',\n",
       "       'Bangla Panjika (বাংলা পঞ্জিকা) 2020 Calendar-1427',\n",
       "       'Motu Patlu Car Game', 'Mr. Detective',\n",
       "       'Tarot Cards Reading and Numerology App', 'Shiva Archery',\n",
       "       'Nursing Exam', 'NEXPLAY(SDK-X) - Mobile Live Streaming',\n",
       "       'Motu Patlu Cycling Adventure', 'Battle of chepauk',\n",
       "       'PocketLeague'], dtype=object)"
      ]
     },
     "execution_count": 124,
     "metadata": {},
     "output_type": "execute_result"
    }
   ],
   "source": [
    "Revenue_mean['App'].unique()"
   ]
  },
  {
   "cell_type": "code",
   "execution_count": 125,
   "metadata": {},
   "outputs": [
    {
     "data": {
      "text/plain": [
       "3393.29"
      ]
     },
     "execution_count": 125,
     "metadata": {},
     "output_type": "execute_result"
    }
   ],
   "source": [
    "Revenue_mean['Revenue'].sum()"
   ]
  },
  {
   "cell_type": "code",
   "execution_count": 126,
   "metadata": {},
   "outputs": [
    {
     "data": {
      "text/plain": [
       "3473.21"
      ]
     },
     "execution_count": 126,
     "metadata": {},
     "output_type": "execute_result"
    }
   ],
   "source": [
    "df['Revenue'].sum()"
   ]
  },
  {
   "cell_type": "markdown",
   "metadata": {},
   "source": [
    "#### As we can see, Revenue for just these specific 30 Apps (Revenue_mean DF) is 3393.29"
   ]
  },
  {
   "cell_type": "code",
   "execution_count": 127,
   "metadata": {},
   "outputs": [
    {
     "data": {
      "text/plain": [
       "79.92000000000007"
      ]
     },
     "execution_count": 127,
     "metadata": {},
     "output_type": "execute_result"
    }
   ],
   "source": [
    "3473.21-3393.29"
   ]
  },
  {
   "cell_type": "markdown",
   "metadata": {},
   "source": [
    "#### Approximately, Only US $79.92 Revenue came from all other Apps\n",
    "#### So, I can say these specific 30 Apps can be categorized has Tier 1 or Important Apps for GG"
   ]
  },
  {
   "cell_type": "code",
   "execution_count": 214,
   "metadata": {},
   "outputs": [
    {
     "data": {
      "text/plain": [
       "App\n",
       "Callbreak Multiplayer                     869.40\n",
       "Bottle Shooting Game                      753.89\n",
       "World Cricket Championship 2              643.44\n",
       "Traffic Bangalore: Check Fines            280.33\n",
       "World Cricket Championship  Lt            145.27\n",
       "Indian Rummy Offline                      104.28\n",
       "Tarot Cards Reading and Numerology App     98.86\n",
       "Mindi Offline                              87.34\n",
       "Indian Train Simulator 2018                68.51\n",
       "Sticker Maker                              61.95\n",
       "Name: Revenue, dtype: float64"
      ]
     },
     "execution_count": 214,
     "metadata": {},
     "output_type": "execute_result"
    }
   ],
   "source": [
    "df.groupby(['App'])['Revenue'].sum().sort_values(ascending = False)[:10]"
   ]
  },
  {
   "cell_type": "markdown",
   "metadata": {},
   "source": [
    "#### These are the top 10 Apps wrt Revenue. So, we can say that these Apps can be categorized as important or Tier-1"
   ]
  },
  {
   "cell_type": "markdown",
   "metadata": {},
   "source": [
    "#### 7 out of these 10 Apps, were Games"
   ]
  },
  {
   "cell_type": "markdown",
   "metadata": {},
   "source": [
    "#### There's an App to check fines (Traffic Bangalore), Numerology App, & Sticker Maker"
   ]
  },
  {
   "cell_type": "markdown",
   "metadata": {},
   "source": [
    "### Top-20 Apps"
   ]
  },
  {
   "cell_type": "code",
   "execution_count": 228,
   "metadata": {},
   "outputs": [
    {
     "data": {
      "text/plain": [
       "App\n",
       "Callbreak Multiplayer                                 869.40\n",
       "Bottle Shooting Game                                  753.89\n",
       "World Cricket Championship 2                          643.44\n",
       "Traffic Bangalore: Check Fines                        280.33\n",
       "World Cricket Championship  Lt                        145.27\n",
       "Indian Rummy Offline                                  104.28\n",
       "Tarot Cards Reading and Numerology App                 98.86\n",
       "Mindi Offline                                          87.34\n",
       "Indian Train Simulator 2018                            68.51\n",
       "Sticker Maker                                          61.95\n",
       "Talk Now – Audio Chat to English speaking practice     61.49\n",
       "Nursing Exam                                           55.17\n",
       "(SDK X) Cricket Mazza                                  34.36\n",
       "Bangla Panjika (বাংলা পঞ্জিকা) 2020 Calendar-1427      31.84\n",
       "Odia (Oriya) Calendar                                  27.71\n",
       "Shiva Winter Biking Tales                              23.23\n",
       "Battle of chepauk                                      22.10\n",
       "Motu Patlu Car Game                                    17.70\n",
       "Live Talk                                              16.50\n",
       "Odia Calendar                                          14.47\n",
       "Name: Revenue, dtype: float64"
      ]
     },
     "execution_count": 228,
     "metadata": {},
     "output_type": "execute_result"
    }
   ],
   "source": [
    "df.groupby(['App'])['Revenue'].sum().sort_values(ascending = False)[:20]"
   ]
  },
  {
   "cell_type": "code",
   "execution_count": 230,
   "metadata": {},
   "outputs": [
    {
     "data": {
      "text/plain": [
       "<AxesSubplot:ylabel='App'>"
      ]
     },
     "execution_count": 230,
     "metadata": {},
     "output_type": "execute_result"
    },
    {
     "data": {
      "image/png": "[encoded data removed]",
      "text/plain": [
       "<Figure size 1440x936 with 1 Axes>"
      ]
     },
     "metadata": {},
     "output_type": "display_data"
    }
   ],
   "source": [
    "df.groupby(['App'])['Revenue'].sum().sort_values(ascending = False)[:20].plot(kind = \"barh\", figsize=(20,13))"
   ]
  },
  {
   "cell_type": "markdown",
   "metadata": {},
   "source": [
    "#### 4. Are there any ad groups which are causing an opportunity loss for the app? If yes, how would you mitigate it?"
   ]
  },
  {
   "cell_type": "code",
   "execution_count": 158,
   "metadata": {},
   "outputs": [
    {
     "data": {
      "text/plain": [
       "30"
      ]
     },
     "execution_count": 158,
     "metadata": {},
     "output_type": "execute_result"
    }
   ],
   "source": [
    "Revenue_mean['App'].nunique()"
   ]
  },
  {
   "cell_type": "code",
   "execution_count": 187,
   "metadata": {},
   "outputs": [
    {
     "data": {
      "text/plain": [
       "188"
      ]
     },
     "execution_count": 187,
     "metadata": {},
     "output_type": "execute_result"
    }
   ],
   "source": [
    "df['Ad Group'].nunique()"
   ]
  },
  {
   "cell_type": "code",
   "execution_count": 189,
   "metadata": {},
   "outputs": [
    {
     "data": {
      "text/plain": [
       "3473.209999999999"
      ]
     },
     "execution_count": 189,
     "metadata": {},
     "output_type": "execute_result"
    }
   ],
   "source": [
    "df.groupby(['Ad Group'])[\"Revenue\"].sum().sum()"
   ]
  },
  {
   "cell_type": "code",
   "execution_count": 216,
   "metadata": {},
   "outputs": [
    {
     "data": {
      "text/html": [
       "<div>\n",
       "<style scoped>\n",
       "    .dataframe tbody tr th:only-of-type {\n",
       "        vertical-align: middle;\n",
       "    }\n",
       "\n",
       "    .dataframe tbody tr th {\n",
       "        vertical-align: top;\n",
       "    }\n",
       "\n",
       "    .dataframe thead th {\n",
       "        text-align: right;\n",
       "    }\n",
       "</style>\n",
       "<table border=\"1\" class=\"dataframe\">\n",
       "  <thead>\n",
       "    <tr style=\"text-align: right;\">\n",
       "      <th></th>\n",
       "      <th>Date</th>\n",
       "      <th>App</th>\n",
       "      <th>Ad Group</th>\n",
       "      <th>State</th>\n",
       "      <th>Revenue</th>\n",
       "      <th>Ad Requests</th>\n",
       "      <th>Ad Responses</th>\n",
       "      <th>Fill Rate</th>\n",
       "      <th>Impressions</th>\n",
       "      <th>Render Rate</th>\n",
       "      <th>1st Clicks</th>\n",
       "      <th>2nd Clicks</th>\n",
       "    </tr>\n",
       "  </thead>\n",
       "  <tbody>\n",
       "    <tr>\n",
       "      <th>0</th>\n",
       "      <td>08 Sep 2020</td>\n",
       "      <td>(SDK X) Cricket Mazza</td>\n",
       "      <td>Cricket Mazza Banner (AdX)</td>\n",
       "      <td>Unresolved</td>\n",
       "      <td>0.0</td>\n",
       "      <td>3932330</td>\n",
       "      <td>3926253</td>\n",
       "      <td>99.9%</td>\n",
       "      <td>3849749</td>\n",
       "      <td>98.1%</td>\n",
       "      <td>10199</td>\n",
       "      <td>0</td>\n",
       "    </tr>\n",
       "    <tr>\n",
       "      <th>1</th>\n",
       "      <td>08 Sep 2020</td>\n",
       "      <td>(SDK X) Cricket Mazza</td>\n",
       "      <td>320x50</td>\n",
       "      <td>Unresolved</td>\n",
       "      <td>0.0</td>\n",
       "      <td>3932330</td>\n",
       "      <td>119</td>\n",
       "      <td>99.9%</td>\n",
       "      <td>118</td>\n",
       "      <td>99.2%</td>\n",
       "      <td>2</td>\n",
       "      <td>2</td>\n",
       "    </tr>\n",
       "    <tr>\n",
       "      <th>2</th>\n",
       "      <td>08 Sep 2020</td>\n",
       "      <td>(SDK X) Cricket Mazza</td>\n",
       "      <td>Dream11_320x50</td>\n",
       "      <td>Unresolved</td>\n",
       "      <td>0.0</td>\n",
       "      <td>3932330</td>\n",
       "      <td>96</td>\n",
       "      <td>99.9%</td>\n",
       "      <td>93</td>\n",
       "      <td>96.9%</td>\n",
       "      <td>2</td>\n",
       "      <td>2</td>\n",
       "    </tr>\n",
       "    <tr>\n",
       "      <th>3</th>\n",
       "      <td>08 Sep 2020</td>\n",
       "      <td>(SDK X) Cricket Mazza</td>\n",
       "      <td>My11_320x50</td>\n",
       "      <td>Unresolved</td>\n",
       "      <td>0.0</td>\n",
       "      <td>3932330</td>\n",
       "      <td>111</td>\n",
       "      <td>99.9%</td>\n",
       "      <td>110</td>\n",
       "      <td>99.1%</td>\n",
       "      <td>2</td>\n",
       "      <td>2</td>\n",
       "    </tr>\n",
       "    <tr>\n",
       "      <th>4</th>\n",
       "      <td>06 Sep 2020</td>\n",
       "      <td>(SDK X) Cricket Mazza</td>\n",
       "      <td>Cricket Mazza Banner (AdX)</td>\n",
       "      <td>Unresolved</td>\n",
       "      <td>0.0</td>\n",
       "      <td>3839002</td>\n",
       "      <td>3834328</td>\n",
       "      <td>99.9%</td>\n",
       "      <td>3785127</td>\n",
       "      <td>98.7%</td>\n",
       "      <td>9492</td>\n",
       "      <td>0</td>\n",
       "    </tr>\n",
       "  </tbody>\n",
       "</table>\n",
       "</div>"
      ],
      "text/plain": [
       "          Date                     App                    Ad Group  \\\n",
       "0  08 Sep 2020  (SDK X) Cricket Mazza   Cricket Mazza Banner (AdX)   \n",
       "1  08 Sep 2020  (SDK X) Cricket Mazza                       320x50   \n",
       "2  08 Sep 2020  (SDK X) Cricket Mazza               Dream11_320x50   \n",
       "3  08 Sep 2020  (SDK X) Cricket Mazza                  My11_320x50   \n",
       "4  06 Sep 2020  (SDK X) Cricket Mazza   Cricket Mazza Banner (AdX)   \n",
       "\n",
       "        State  Revenue  Ad Requests  Ad Responses Fill Rate  Impressions  \\\n",
       "0  Unresolved      0.0      3932330       3926253     99.9%      3849749   \n",
       "1  Unresolved      0.0      3932330           119     99.9%          118   \n",
       "2  Unresolved      0.0      3932330            96     99.9%           93   \n",
       "3  Unresolved      0.0      3932330           111     99.9%          110   \n",
       "4  Unresolved      0.0      3839002       3834328     99.9%      3785127   \n",
       "\n",
       "  Render Rate  1st Clicks  2nd Clicks  \n",
       "0       98.1%       10199           0  \n",
       "1       99.2%           2           2  \n",
       "2       96.9%           2           2  \n",
       "3       99.1%           2           2  \n",
       "4       98.7%        9492           0  "
      ]
     },
     "execution_count": 216,
     "metadata": {},
     "output_type": "execute_result"
    }
   ],
   "source": [
    "df.head()"
   ]
  },
  {
   "cell_type": "markdown",
   "metadata": {},
   "source": [
    "#### For Additional Insights, I have created another notebook"
   ]
  },
  {
   "cell_type": "markdown",
   "metadata": {},
   "source": [
    "#### <-----Thank you----->"
   ]
  }
 ],
 "metadata": {
  "kernelspec": {
   "display_name": "Python 3",
   "language": "python",
   "name": "python3"
  },
  "language_info": {
   "codemirror_mode": {
    "name": "ipython",
    "version": 3
   },
   "file_extension": ".py",
   "mimetype": "text/x-python",
   "name": "python",
   "nbconvert_exporter": "python",
   "pygments_lexer": "ipython3",
   "version": "3.7.3"
  }
 },
 "nbformat": 4,
 "nbformat_minor": 2
}
